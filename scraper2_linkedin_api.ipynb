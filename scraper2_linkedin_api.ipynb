{
 "cells": [
  {
   "cell_type": "markdown",
   "id": "deac93bc-70ed-4946-be6d-981f0d9e5a74",
   "metadata": {},
   "source": [
    "# Instructions\n",
    "\n",
    "### To access the LinkedIn API and use it in your Python code, you need to follow these steps:\n",
    "\n",
    "```\n",
    "Create a LinkedIn Developer Account:\n",
    "\n",
    "If you don't already have one, sign up for a LinkedIn Developer Account:\n",
    "\n",
    "Go to the LinkedIn Developer Platform website.\n",
    "Sign in with your LinkedIn account or create one if you don't have it.\n",
    "Create a LinkedIn App:\n",
    "```\n",
    "=============================================================================================\n",
    "```\n",
    "To access LinkedIn's API, you need to create a LinkedIn App. Follow these steps:\n",
    "\n",
    "Click the \"Create App\" button.\n",
    "Fill out the required information for your app, including the name, description, and website. Ensure that you provide accurate and complete information.\n",
    "Agree to the LinkedIn Developer Program Agreement and click the \"Create App\" button.\n",
    "```\n",
    "==============================================================================================\n",
    "```\n",
    "Get Your App's API Credentials:\n",
    "\n",
    "Once your app is created, you'll receive the following API credentials:\n",
    "\n",
    "Client ID: This is a unique identifier for your app.\n",
    "Client Secret: This is a secret key used for authentication.\n",
    "Keep these credentials secure, as they are essential for accessing the LinkedIn API.\n",
    "```\n",
    "===============================================================================================\n",
    "```\n",
    "Set Up OAuth 2.0 Authentication:\n",
    "\n",
    "LinkedIn's API uses OAuth 2.0 for authentication. You need to set up your app to handle the OAuth 2.0 authorization flow:\n",
    "Go to 'auth' tab in your app and see on the right side of the page\n",
    "You'll find a option \" OAuth 2.0 tools\" option click on it\n",
    "In new page there will two options \"Create Token\" and \"Inspect token\"\n",
    "Click on create token and follow the instructions, once token gets created \n",
    "save it carefully.\n",
    "```\n",
    "================================================================================================\n",
    "```\n",
    "Make API Requests:\n",
    "\n",
    "With the access token obtained during the OAuth flow, you can make API requests to retrieve LinkedIn data.\n",
    "```\n",
    "=================================================================================================\n",
    "```\n",
    "Compliance with LinkedIn Policies:\n",
    "\n",
    "Ensure that your use of the LinkedIn API complies with LinkedIn's terms of service and privacy policies. Respect user privacy and data protection guidelines.\n",
    "```"
   ]
  },
  {
   "cell_type": "code",
   "execution_count": 1,
   "id": "a7bcbc60-3a56-433d-bc75-100d8e5815ed",
   "metadata": {},
   "outputs": [
    {
     "name": "stdout",
     "output_type": "stream",
     "text": [
      "{'sub': 'pdCpWmvKBf', 'email_verified': True, 'name': 'Arijit  Singh', 'locale': {'country': 'US', 'language': 'en'}, 'given_name': 'Arijit ', 'family_name': 'Singh', 'email': 'singharijit191@gmail.com'}\n"
     ]
    }
   ],
   "source": [
    "#My code will only return the data of authenticated members(members which have agreed to access of their data)\n",
    "\n",
    "\n",
    "import requests\n",
    "\n",
    "# Replace these with your credentials\n",
    "client_id = 'YOUR CLIENT ID'\n",
    "client_secret = 'YOUR CLIENT SECRET'\n",
    "access_token = 'YOUR ACCESS TOKEN'\n",
    "# Define this according to your available endpoints on linkedin api\n",
    "api_url = 'https://api.linkedin.com/v2/userinfo'\n",
    "\n",
    "# setting header with access token for use in api request\n",
    "headers = {\n",
    "    'Authorization': f'Bearer {access_token}'\n",
    "}\n",
    "\n",
    "# Making the API request to get the access\n",
    "response = requests.get(api_url, headers=headers)\n",
    "\n",
    "if response.status_code == 200:\n",
    "    # Handle the JSON response data here\n",
    "    user_data = response.json()\n",
    "    print(user_data)\n",
    "else:\n",
    "    print(f\"API Request Failed with status code: {response.status_code}\")\n"
   ]
  },
  {
   "cell_type": "code",
   "execution_count": null,
   "id": "1ca64b9f-9f87-4d8b-954d-d701118ab987",
   "metadata": {},
   "outputs": [],
   "source": []
  }
 ],
 "metadata": {
  "kernelspec": {
   "display_name": "Python 3 (ipykernel)",
   "language": "python",
   "name": "python3"
  },
  "language_info": {
   "codemirror_mode": {
    "name": "ipython",
    "version": 3
   },
   "file_extension": ".py",
   "mimetype": "text/x-python",
   "name": "python",
   "nbconvert_exporter": "python",
   "pygments_lexer": "ipython3",
   "version": "3.10.9"
  }
 },
 "nbformat": 4,
 "nbformat_minor": 5
}
